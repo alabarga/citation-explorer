{
 "cells": [
  {
   "cell_type": "markdown",
   "id": "9760ed42",
   "metadata": {},
   "source": [
    "## Get citations from DOI in different formats"
   ]
  },
  {
   "cell_type": "markdown",
   "id": "c0c3ba92",
   "metadata": {},
   "source": [
    "https://citation.crosscite.org/docs.html"
   ]
  },
  {
   "cell_type": "raw",
   "id": "5b530e82",
   "metadata": {},
   "source": [
    "curl -LH \"Accept: text/x-bibliography; style=harvard3; locale=fr-FR\" https://doi.org/10.1126/science.169.3946.635"
   ]
  },
  {
   "cell_type": "code",
   "execution_count": 1,
   "id": "db71f212",
   "metadata": {},
   "outputs": [],
   "source": [
    "import requests"
   ]
  },
  {
   "cell_type": "code",
   "execution_count": 2,
   "id": "31c6a344",
   "metadata": {},
   "outputs": [],
   "source": [
    "headers = {\n",
    "    'Accept' : 'text/x-bibliography; style=american-chemical-society; locale=en-US'\n",
    "}"
   ]
  },
  {
   "cell_type": "code",
   "execution_count": 42,
   "id": "b4aeaf77",
   "metadata": {},
   "outputs": [],
   "source": [
    "doi = '10.1038/s41582-020-0350-6'"
   ]
  },
  {
   "cell_type": "code",
   "execution_count": 43,
   "id": "709b17a8",
   "metadata": {},
   "outputs": [],
   "source": [
    "doi_url = f'https://doi.org/{doi}'"
   ]
  },
  {
   "cell_type": "code",
   "execution_count": 44,
   "id": "1dd14242",
   "metadata": {},
   "outputs": [],
   "source": [
    "resp = requests.get(doi_url, headers=headers)"
   ]
  },
  {
   "cell_type": "code",
   "execution_count": 45,
   "id": "66ead103",
   "metadata": {
    "scrolled": true
   },
   "outputs": [
    {
     "name": "stdout",
     "output_type": "stream",
     "text": [
      "(1) Montaner, J.; Ramiro, L.; Simats, A.; Tiedt, S.; Makris, K.; Jickling, G. C.; Debette, S.; Sanchez, J.-C.; Bustamante, A. Multilevel Omics for the Discovery of Biomarkers and Therapeutic Targets for Stroke. Nature Reviews Neurology 2020, 16 (5), 247–264. https://doi.org/10.1038/s41582-020-0350-6.\n",
      "\n"
     ]
    }
   ],
   "source": [
    "print(resp.content.decode('utf-8'))"
   ]
  },
  {
   "cell_type": "code",
   "execution_count": null,
   "id": "79df270d",
   "metadata": {},
   "outputs": [],
   "source": [
    "references = [\n",
    "    '10.1161/STROKEAHA.120.032129',\n",
    "    '10.1186/s12967-022-03377-9',\n",
    "    '10.3390/biom12010039',\n",
    "    '10.1007/s12035-021-02401-1',\n",
    "    '10.1016/j.arr.2022.101730',\n",
    "    '10.1038/s41582-020-0350-6'\n",
    "    \n",
    "]"
   ]
  },
  {
   "cell_type": "code",
   "execution_count": 29,
   "id": "0b172b56",
   "metadata": {},
   "outputs": [],
   "source": [
    "a = '''7,5 mg/24h.\n",
    "2'''\n"
   ]
  },
  {
   "cell_type": "code",
   "execution_count": 30,
   "id": "9547f83e",
   "metadata": {},
   "outputs": [
    {
     "data": {
      "text/plain": [
       "'7,5 mg/24h.\\n2'"
      ]
     },
     "execution_count": 30,
     "metadata": {},
     "output_type": "execute_result"
    }
   ],
   "source": [
    "a"
   ]
  },
  {
   "cell_type": "code",
   "execution_count": 31,
   "id": "8187bcba",
   "metadata": {},
   "outputs": [
    {
     "name": "stdout",
     "output_type": "stream",
     "text": [
      "7,5 mg/24h.\n",
      "2\n"
     ]
    }
   ],
   "source": [
    "print(a)"
   ]
  },
  {
   "cell_type": "code",
   "execution_count": 47,
   "id": "c2976bef",
   "metadata": {},
   "outputs": [],
   "source": [
    "from datetime import date"
   ]
  },
  {
   "cell_type": "code",
   "execution_count": 49,
   "id": "f2ad7efe",
   "metadata": {},
   "outputs": [
    {
     "ename": "TypeError",
     "evalue": "'str' object cannot be interpreted as an integer",
     "output_type": "error",
     "traceback": [
      "\u001b[0;31m---------------------------------------------------------------------------\u001b[0m",
      "\u001b[0;31mTypeError\u001b[0m                                 Traceback (most recent call last)",
      "Cell \u001b[0;32mIn[49], line 1\u001b[0m\n\u001b[0;32m----> 1\u001b[0m \u001b[43mdate\u001b[49m\u001b[43m(\u001b[49m\u001b[38;5;124;43m'\u001b[39;49m\u001b[38;5;124;43m2022-12-26\u001b[39;49m\u001b[38;5;124;43m'\u001b[39;49m\u001b[43m)\u001b[49m\n",
      "\u001b[0;31mTypeError\u001b[0m: 'str' object cannot be interpreted as an integer"
     ]
    }
   ],
   "source": [
    "date('2022-12-26')"
   ]
  },
  {
   "cell_type": "code",
   "execution_count": 3,
   "id": "7af4f146",
   "metadata": {},
   "outputs": [],
   "source": [
    "references = [\n",
    "'https://doi.org/10.1038/s41591-023-02289-5',\n",
    "'https://doi.org/10.1108/IJHG-11-2022-0104',\n",
    "'https://doi.org/10.1038/s41586-023-05881-4',\n",
    "'https://doi.org/10.1016/S0140-6736(23)00216-7',\n",
    "    'https://doi.org/10.1038/s41591-021-01614-0',\n",
    "    'https://doi.org/10.1016/S0140-6736(23)00216-7',\n",
    "    'https://doi.org/10.1038/s41746-019-0158-1',\n",
    "    'https://doi.org/10.1038/s41437-020-0303-2',\n",
    "    'https://doi.org/10.1186/s12916-019-1426-2',\n",
    "    'https://doi.org/10.1016/j.jik.2023.100333',\n",
    "    'https://doi.org/10.1038/s41746-018-0029-1',\n",
    "    https://doi.org/10.1136/bmj.m2810\n",
    "    https://doi.org/10.1038/s42256-021-00307-0\n",
    "    https://doi.org/10.1038/s41467-020-18849-z\n",
    "]"
   ]
  },
  {
   "cell_type": "code",
   "execution_count": 9,
   "id": "83bca232",
   "metadata": {},
   "outputs": [],
   "source": [
    "def citation(doi_url, style='american-chemical-society'):\n",
    "    '''\n",
    "    Available styles:\n",
    "    - american-chemical-society (default)\n",
    "    - harvard3\n",
    "    '''    \n",
    "    headers = {\n",
    "        'Accept' : f'text/x-bibliography; style={style}; locale=en-US'\n",
    "    }\n",
    "\n",
    "    resp = requests.get(doi_url, headers=headers)\n",
    "    cite= resp.content.decode('utf-8')\n",
    "\n",
    "    return cite"
   ]
  },
  {
   "cell_type": "code",
   "execution_count": 10,
   "id": "1750e89e",
   "metadata": {},
   "outputs": [
    {
     "name": "stdout",
     "output_type": "stream",
     "text": [
      "Help on function citation in module __main__:\n",
      "\n",
      "citation(doi_url, style='american-chemical-society')\n",
      "    Available styles:\n",
      "    - american-chemical-society (default)\n",
      "    - harvard3\n",
      "\n"
     ]
    }
   ],
   "source": [
    "help(citation)"
   ]
  },
  {
   "cell_type": "code",
   "execution_count": 7,
   "id": "913b3575",
   "metadata": {},
   "outputs": [
    {
     "name": "stdout",
     "output_type": "stream",
     "text": [
      "(1) Will ChatGPT Transform Healthcare? Nature Medicine 2023, 29 (3), 505–506. https://doi.org/10.1038/s41591-023-02289-5.\n",
      "\n",
      "(1) Arora, A.; Arora, A. The Promise of Large Language Models in Health Care. The Lancet 2023, 401 (10377), 641. https://doi.org/10.1016/s0140-6736(23)00216-7.\n",
      "\n",
      "(1) Holly, L.; Thom, S.; Elzemety, M.; Murage, B.; Mathieson, K.; Iñigo Petralanda, M. I. Strengthening Health Data Governance: New Equity and Rights-Based Principles. International Journal of Health Governance 2023. https://doi.org/10.1108/ijhg-11-2022-0104.\n",
      "\n",
      "(1) Rajkomar, A.; Oren, E.; Chen, K.; Dai, A. M.; Hajaj, N.; Hardt, M.; Liu, P. J.; Liu, X.; Marcus, J.; Sun, M.; Sundberg, P.; Yee, H.; Zhang, K.; Zhang, Y.; Flores, G.; Duggan, G. E.; Irvine, J.; Le, Q.; Litsch, K.; Mossin, A.; Tansuwan, J.; Wang, D.; Wexler, J.; Wilson, J.; Ludwig, D.; Volchenboum, S. L.; Chou, K.; Pearson, M.; Madabushi, S.; Shah, N. H.; Butte, A. J.; Howell, M. D.; Cui, C.; Corrado, G. S.; Dean, J. Scalable and Accurate Deep Learning with Electronic Health Records. npj Digital Medicine 2018, 1 (1). https://doi.org/10.1038/s41746-018-0029-1.\n",
      "\n",
      "(1) Lehne, M.; Sass, J.; Essenwanger, A.; Schepers, J.; Thun, S. Why Digital Medicine Depends on Interoperability. npj Digital Medicine 2019, 2 (1). https://doi.org/10.1038/s41746-019-0158-1.\n",
      "\n",
      "(1) Ali, O.; Abdelbaki, W.; Shrestha, A.; Elbasi, E.; Alryalat, M. A. A.; Dwivedi, Y. K. A Systematic Literature Review of Artificial Intelligence in the Healthcare Sector: Benefits, Challenges, Methodologies, and Functionalities. Journal of Innovation &amp; Knowledge 2023, 8 (1), 100333. https://doi.org/10.1016/j.jik.2023.100333.\n",
      "\n",
      "(1) Moor, M.; Banerjee, O.; Abad, Z. S. H.; Krumholz, H. M.; Leskovec, J.; Topol, E. J.; Rajpurkar, P. Foundation Models for Generalist Medical Artificial Intelligence. Nature 2023, 616 (7956), 259–265. https://doi.org/10.1038/s41586-023-05881-4.\n",
      "\n",
      "(1) Kelly, C. J.; Karthikesalingam, A.; Suleyman, M.; Corrado, G.; King, D. Key Challenges for Delivering Clinical Impact with Artificial Intelligence. BMC Medicine 2019, 17 (1). https://doi.org/10.1186/s12916-019-1426-2.\n",
      "\n",
      "(1) Agrawal, R.; Prabakaran, S. Big Data in Digital Healthcare: Lessons Learnt and Recommendations for General Practice. Heredity 2020, 124 (4), 525–534. https://doi.org/10.1038/s41437-020-0303-2.\n",
      "\n",
      "(1) Rajpurkar, P.; Chen, E.; Banerjee, O.; Topol, E. J. AI in Health and Medicine. Nature Medicine 2022, 28 (1), 31–38. https://doi.org/10.1038/s41591-021-01614-0.\n",
      "\n"
     ]
    }
   ],
   "source": [
    "for ref in references:    \n",
    "    print(citation(ref))"
   ]
  },
  {
   "cell_type": "code",
   "execution_count": null,
   "id": "f09daaa8",
   "metadata": {},
   "outputs": [],
   "source": []
  }
 ],
 "metadata": {
  "kernelspec": {
   "display_name": "notebooks",
   "language": "python",
   "name": "notebooks"
  },
  "language_info": {
   "codemirror_mode": {
    "name": "ipython",
    "version": 3
   },
   "file_extension": ".py",
   "mimetype": "text/x-python",
   "name": "python",
   "nbconvert_exporter": "python",
   "pygments_lexer": "ipython3",
   "version": "3.10.6"
  }
 },
 "nbformat": 4,
 "nbformat_minor": 5
}
